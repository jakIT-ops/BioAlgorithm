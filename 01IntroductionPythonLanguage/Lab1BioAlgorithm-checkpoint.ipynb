{
 "cells": [
  {
   "cell_type": "markdown",
   "metadata": {},
   "source": [
    "# УДИРТГАЛ"
   ]
  },
  {
   "cell_type": "markdown",
   "metadata": {},
   "source": [
    "## 1. Яагаад судлах хэрэгтэй вэ?"
   ]
  },
  {
   "cell_type": "markdown",
   "metadata": {},
   "source": [
    "![bioInformatic](pic/Bioinformatics.png)"
   ]
  },
  {
   "cell_type": "markdown",
   "metadata": {},
   "source": [
    "- **Компьютерийн ухааныханд**\n",
    "    - Бодит асуудалд хадгалагдсан КУ-ийн суурь ухагдахуунуудыг олж харах.\n",
    "    - КУ-ы судлаачид биологоос юуг сурч болох\n",
    "        - Найдвартай, параллел, өөрийгөө засварлах, эрчим хүчний хэмнэлт\n",
    "\n",
    "- **Биологчдод**\n",
    "    - КУ-Биологийн хоорондын “хэлний” саадыг багасгах\n",
    "    - КУ-ыг зөвхөн “код бичих” тухай биш гэдгийг ойлгох\n",
    "    - Зөв алгоритм болон үр ашигтай алгоритмын тухай ойлголт\n",
    "\n",
    "- **Боломж**\n",
    "    - Биоинформатикийн ур чадвар зах зээл дээр маш эрэлттэй\n",
    "    - КУ болон Биологийн ухааны хөгжил"
   ]
  },
  {
   "cell_type": "markdown",
   "metadata": {},
   "source": [
    "## 2. Судлах Сэдвүүд"
   ]
  },
  {
   "cell_type": "markdown",
   "metadata": {},
   "source": [
    "![sudlahSedwvvd](pic/sudlahSedwvvd.png)"
   ]
  },
  {
   "cell_type": "markdown",
   "metadata": {},
   "source": [
    "## 3. Биотехнологи"
   ]
  },
  {
   "cell_type": "markdown",
   "metadata": {},
   "source": [
    "![biotechTimeline](pic/biotechTimeline.png)"
   ]
  },
  {
   "cell_type": "markdown",
   "metadata": {},
   "source": [
    "## 4. Exercises"
   ]
  },
  {
   "cell_type": "markdown",
   "metadata": {
    "id": "wispwmGARjdt"
   },
   "source": [
    "### 3. Оролт-процесс-гаралт бүтэцтэй жижиг программ бичих"
   ]
  },
  {
   "cell_type": "markdown",
   "metadata": {
    "id": "wa8WqXLsfP0p"
   },
   "source": [
    "a. Reads a value of temperature in Celsius degrees (ºC) and converts it into a temperature in Fahrenheit degrees (ºF)."
   ]
  },
  {
   "cell_type": "code",
   "execution_count": 1,
   "metadata": {
    "colab": {
     "base_uri": "https://localhost:8080/"
    },
    "id": "t4xK128RQdqF",
    "outputId": "5d0e7c02-e5da-494f-fd8c-eb3042995240"
   },
   "outputs": [
    {
     "name": "stdin",
     "output_type": "stream",
     "text": [
      "Celsius:  20\n"
     ]
    },
    {
     "name": "stdout",
     "output_type": "stream",
     "text": [
      "Fahrenheit: 68.00\n"
     ]
    }
   ],
   "source": [
    "celsius = float(input(\"Celsius: \"))\n",
    "fahrenheit = (celsius * 9/5) + 32\n",
    "\n",
    "print('Fahrenheit: %0.2f' %(fahrenheit))"
   ]
  },
  {
   "cell_type": "code",
   "execution_count": null,
   "metadata": {
    "colab": {
     "base_uri": "https://localhost:8080/"
    },
    "id": "NsIHX1LVdl1w",
    "outputId": "6323fe14-8ba2-42c5-a716-8c1e944c6def"
   },
   "outputs": [
    {
     "name": "stdout",
     "output_type": "stream",
     "text": [
      "Fahrenheit: 44\n",
      "Celsius: 6.67\n"
     ]
    }
   ],
   "source": [
    "fahrenheit = float(input(\"Fahrenheit: \"))\n",
    "celsius = (fahrenheit - 32) * 5/9\n",
    "\n",
    "print('Celsius: %0.2f' %(celsius))"
   ]
  },
  {
   "cell_type": "markdown",
   "metadata": {
    "id": "UxvW8j_ad1Q5"
   },
   "source": [
    "Resource: https://www.almanac.com/temperature-conversion-celsius-fahrenheit"
   ]
  },
  {
   "cell_type": "markdown",
   "metadata": {
    "id": "w7LXpIFzgEey"
   },
   "source": [
    "b. Reads the length of the two smallest sides of a right triangle and calculates the length\n",
    "of the hypotenuse (the largest side, opposite to the right angle)."
   ]
  },
  {
   "cell_type": "code",
   "execution_count": null,
   "metadata": {
    "colab": {
     "base_uri": "https://localhost:8080/"
    },
    "id": "yw8SiKfog75S",
    "outputId": "95c87f49-4ad6-4a82-990a-ee3f31807020"
   },
   "outputs": [
    {
     "name": "stdout",
     "output_type": "stream",
     "text": [
      "Гурвалжингийн богино 2 талыг оруулах:\n",
      "a: 3\n",
      "b: 4\n",
      "hypotenuse: 5.0\n"
     ]
    }
   ],
   "source": [
    "from math import sqrt\n",
    "print(\"Гурвалжингийн богино 2 талыг оруулах:\")\n",
    "a = int(input(\"a: \"))\n",
    "b = int(input(\"b: \"))\n",
    "c = sqrt(a**2 + b**2)\n",
    "print(\"hypotenuse:\", c )"
   ]
  },
  {
   "cell_type": "markdown",
   "metadata": {
    "id": "WcMJq36hhIsG"
   },
   "source": [
    "![image.png](data:image/png;base64,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)"
   ]
  },
  {
   "cell_type": "markdown",
   "metadata": {
    "id": "pBmwSP43idSk"
   },
   "source": [
    "c. Reads a string and converts it to capital letters, printing the result"
   ]
  },
  {
   "cell_type": "code",
   "execution_count": null,
   "metadata": {
    "colab": {
     "base_uri": "https://localhost:8080/"
    },
    "id": "4OvQqoClie0N",
    "outputId": "16d79dd0-4b9e-446c-de57-0e7602a9cfc5"
   },
   "outputs": [
    {
     "name": "stdout",
     "output_type": "stream",
     "text": [
      "Тэмдэгт мөрөө оруулна уу(жижиг):\n",
      "dsda\n",
      "DSDA\n"
     ]
    }
   ],
   "source": [
    "print(\"Тэмдэгт мөрөө оруулна уу(жижиг):\");\n",
    "print(input().upper())"
   ]
  },
  {
   "cell_type": "markdown",
   "metadata": {
    "id": "xCRXbdjpidKj"
   },
   "source": [
    "d. Adapt the previous program to read the string from a file, whose name is entered by\n",
    "the user"
   ]
  },
  {
   "cell_type": "code",
   "execution_count": null,
   "metadata": {
    "colab": {
     "base_uri": "https://localhost:8080/"
    },
    "id": "Krd7sCZNiZIO",
    "outputId": "c10e0bc9-d657-4fcc-9b11-37076f5c93c3"
   },
   "outputs": [
    {
     "name": "stdout",
     "output_type": "stream",
     "text": [
      "we\n"
     ]
    }
   ],
   "source": [
    "f = open('test.txt', 'w')\n",
    "f.write(input())\n",
    "f.close()"
   ]
  },
  {
   "cell_type": "markdown",
   "metadata": {
    "id": "nPQUmh13mVpO"
   },
   "source": [
    "e. Reads a string and checks if it is a palindrome, i.e. if it reads the same when it is\n",
    "reversed. Implement different versions using functions over strings, and cycles\n",
    "(for/while)."
   ]
  },
  {
   "cell_type": "code",
   "execution_count": null,
   "metadata": {
    "colab": {
     "base_uri": "https://localhost:8080/"
    },
    "id": "JqjLiQ0Rmweh",
    "outputId": "d616297e-3ed6-49e4-db95-1c86a84db94a"
   },
   "outputs": [
    {
     "name": "stdout",
     "output_type": "stream",
     "text": [
      "String oruulna uu: ababa\n",
      "palindrome\n"
     ]
    }
   ],
   "source": [
    "s = input(\"String oruulna uu: \")\n",
    "if(s == s[::-1]):\n",
    "  print(\"palindrome\")\n",
    "else: print(\"not palindrome\")"
   ]
  },
  {
   "cell_type": "code",
   "execution_count": null,
   "metadata": {
    "colab": {
     "base_uri": "https://localhost:8080/"
    },
    "id": "2CuuHLXDn0v7",
    "outputId": "ad27252a-16e5-4574-d701-ac1b5c8cf8f8"
   },
   "outputs": [
    {
     "name": "stdout",
     "output_type": "stream",
     "text": [
      "String oruulna uu: dsa\n",
      "Not a palindrome\n"
     ]
    }
   ],
   "source": [
    "# Давталт ашигласан\n",
    "s = input(\"String oruulna uu: \")\n",
    "revStr=\"\"\n",
    "for i in range(len(s),0,-1):\n",
    "  revStr += s[i-1]\n",
    "\n",
    "if(s == revStr):\n",
    "  print(\"Palindrome\") \n",
    "else : print(\"Not a palindrome\")\n",
    "  \n"
   ]
  },
  {
   "cell_type": "markdown",
   "metadata": {
    "id": "ba1xlmBOqokp"
   },
   "source": [
    "f. Reads three numerical values from the standard input, and calculates the largest and\n",
    "the smallest value."
   ]
  },
  {
   "cell_type": "code",
   "execution_count": null,
   "metadata": {
    "colab": {
     "base_uri": "https://localhost:8080/"
    },
    "id": "x2gze3dIrj5E",
    "outputId": "139be050-6986-4491-bb80-7977ef3f2624"
   },
   "outputs": [
    {
     "name": "stdout",
     "output_type": "stream",
     "text": [
      "5 6 8 3 2\n",
      "хамгийн их 8\n",
      "хамгийн бага 2\n"
     ]
    }
   ],
   "source": [
    "n = list(map(int, input().split()))\n",
    "print(\"хамгийн их\", max(n))\n",
    "print(\"хамгийн бага\", min(n))"
   ]
  },
  {
   "cell_type": "markdown",
   "metadata": {
    "id": "ItxNfyEBsLo9"
   },
   "source": [
    "g. Reads two numerical intervals (defined by lower and upper range), and outputs their\n",
    "union and their intersection."
   ]
  },
  {
   "cell_type": "code",
   "execution_count": null,
   "metadata": {
    "colab": {
     "base_uri": "https://localhost:8080/"
    },
    "id": "5H_uKxC7tbI0",
    "outputId": "7dcf7f86-d1e5-4dd0-d443-51168cce83ef"
   },
   "outputs": [
    {
     "name": "stdout",
     "output_type": "stream",
     "text": [
      "1 2 3 4 5\n",
      "5 4 6 7 8\n",
      "union {1, 2, 3, 4, 5, 6, 7, 8}\n",
      "intersection {4, 5}\n"
     ]
    }
   ],
   "source": [
    "x = list(map(int, input().split()))\n",
    "y = list(map(int, input().split()))\n",
    "print(\"union\", set(x) | set(y))\n",
    "print(\"intersection\", set(x) & set(y))"
   ]
  },
  {
   "cell_type": "markdown",
   "metadata": {
    "id": "r571V23e4e5M"
   },
   "source": [
    "i. Reads a sequence of integer (positive) values, terminated by value 0, and outputs\n",
    "their sum, mean and largest value\n",
    "\n"
   ]
  },
  {
   "cell_type": "code",
   "execution_count": null,
   "metadata": {
    "colab": {
     "base_uri": "https://localhost:8080/"
    },
    "id": "lXUl0Oks4k8P",
    "outputId": "2aba8ac6-939e-494a-f5de-8e8962144eb1"
   },
   "outputs": [
    {
     "name": "stdout",
     "output_type": "stream",
     "text": [
      "sum: 25\n",
      "mean:  2.5\n",
      "max: 9\n"
     ]
    }
   ],
   "source": [
    "nums = [1, 2, 3, 4, 5, 6, 7, 8, 9, 10]\n",
    "for i in range(0, len(nums)):\n",
    "  if(nums[i] % 2 == 0):\n",
    "    nums[i] = 0\n",
    "\n",
    "print(\"sum:\", sum(nums))\n",
    "print(\"mean: \", sum(nums)/len(nums))\n",
    "print(\"max:\", max(nums))"
   ]
  },
  {
   "cell_type": "markdown",
   "metadata": {
    "id": "1F7SUj8b9RH3"
   },
   "source": [
    "### 4. Repeat the previous exercise, now creating functions for the different tasks and calling those functions within your programs."
   ]
  },
  {
   "cell_type": "code",
   "execution_count": null,
   "metadata": {
    "colab": {
     "base_uri": "https://localhost:8080/"
    },
    "id": "LQJoB02R_Nvt",
    "outputId": "385ad5af-fa68-4249-fbf2-fcb92ebef8e6"
   },
   "outputs": [
    {
     "name": "stdout",
     "output_type": "stream",
     "text": [
      "Celsius: 4\n",
      "Fahrenheit5\n",
      "Fahrenheit to Celsius: -15.00\n",
      "Celsius to Fahrenheit: 39.20\n"
     ]
    }
   ],
   "source": [
    "# 1\n",
    "def Celsius_Fahrenheit_Cal(c, f):\n",
    "  fahrenheit = (c * 9/5) + 32\n",
    "  celsius = (f - 32) * 5/9\n",
    "  print('Fahrenheit to Celsius: %0.2f' %(celsius))\n",
    "  print('Celsius to Fahrenheit: %0.2f' %(fahrenheit))\n",
    "\n",
    "c = float(input(\"Celsius: \"))\n",
    "f = float(input(\"Fahrenheit\"))\n",
    "Celsius_Fahrenheit_Cal(c,f)"
   ]
  },
  {
   "cell_type": "code",
   "execution_count": null,
   "metadata": {
    "colab": {
     "base_uri": "https://localhost:8080/"
    },
    "id": "XYgonLwcBDVm",
    "outputId": "62caa8bc-14bc-4607-f5f5-c1aa22cf6ba5"
   },
   "outputs": [
    {
     "name": "stdout",
     "output_type": "stream",
     "text": [
      "a: 4\n",
      "b: 5\n",
      "hypotenuse 6.4031242374328485\n"
     ]
    }
   ],
   "source": [
    "# 2\n",
    "def Hypotenuse(a, b):\n",
    "  return sqrt(a**2 + b**2)\n",
    "\n",
    "a = int(input(\"a: \"))\n",
    "b = int(input(\"b: \"))\n",
    "\n",
    "print(\"hypotenuse\", Hypotenuse(a,b));\n"
   ]
  },
  {
   "cell_type": "code",
   "execution_count": null,
   "metadata": {
    "colab": {
     "base_uri": "https://localhost:8080/"
    },
    "id": "Ezt5fXrCCxeT",
    "outputId": "313d7227-8e83-42a8-b6e3-2d6169b8f7f6"
   },
   "outputs": [
    {
     "name": "stdout",
     "output_type": "stream",
     "text": [
      "ыб\n",
      "ЫБ\n"
     ]
    }
   ],
   "source": [
    "# 3\n",
    "def upperFunc(s):\n",
    "  return s.upper()\n",
    "\n",
    "s = input()\n",
    "print(upperFunc(s))"
   ]
  },
  {
   "cell_type": "code",
   "execution_count": null,
   "metadata": {
    "colab": {
     "base_uri": "https://localhost:8080/"
    },
    "id": "x-_PId2rEHvZ",
    "outputId": "d3ee33ac-4299-4f9b-dfc6-06af8b98c8d0"
   },
   "outputs": [
    {
     "name": "stdout",
     "output_type": "stream",
     "text": [
      "String oruulna uu: test\n",
      "Not a palindrome\n"
     ]
    }
   ],
   "source": [
    "# 4\n",
    "def checkPalindrome(s):\n",
    "  revStr=\"\"\n",
    "  for i in range(len(s),0,-1):\n",
    "    revStr += s[i-1]\n",
    "  if(s == revStr):\n",
    "    print(\"Palindrome\") \n",
    "  else : print(\"Not a palindrome\")\n",
    "\n",
    "s = input(\"String oruulna uu: \")\n",
    "checkPalindrome(s)"
   ]
  },
  {
   "cell_type": "code",
   "execution_count": null,
   "metadata": {
    "colab": {
     "base_uri": "https://localhost:8080/"
    },
    "id": "qmYxx1FMFDMj",
    "outputId": "06f46ad8-de10-4e39-8c11-8e42979f5787"
   },
   "outputs": [
    {
     "name": "stdout",
     "output_type": "stream",
     "text": [
      "1 2 3 4 5\n",
      "5 4 1 2 3\n",
      "union {1, 2, 3, 4, 5}\n",
      "intersection {1, 2, 3, 4, 5}\n"
     ]
    }
   ],
   "source": [
    "#5\n",
    "def union(x, y):\n",
    "  print(\"union\", set(x) | set(y))\n",
    "\n",
    "def intersection(x, y):\n",
    "  print(\"intersection\", set(x) & set(y))\n",
    "\n",
    "x = list(map(int, input().split()))\n",
    "y = list(map(int, input().split()))\n",
    "union(x, y)\n",
    "intersection(x, y)"
   ]
  },
  {
   "cell_type": "code",
   "execution_count": null,
   "metadata": {
    "colab": {
     "base_uri": "https://localhost:8080/"
    },
    "id": "2q54HBdQI9Qx",
    "outputId": "41163a97-bc11-43f7-fb84-404ebe634dd0"
   },
   "outputs": [
    {
     "name": "stdout",
     "output_type": "stream",
     "text": [
      "sum: 25\n",
      "mean:  2.5\n",
      "max: 9\n"
     ]
    }
   ],
   "source": [
    "def func(nums):\n",
    "  for i in range(0, len(nums)):\n",
    "    if(nums[i] % 2 == 0):\n",
    "      nums[i] = 0\n",
    "\n",
    "  print(\"sum:\", sum(nums))\n",
    "  print(\"mean: \", sum(nums)/len(nums))\n",
    "  print(\"max:\", max(nums))\n",
    "\n",
    "nums = [1, 2, 3, 4, 5, 6, 7, 8, 9, 10]\n",
    "func(nums)"
   ]
  },
  {
   "cell_type": "markdown",
   "metadata": {
    "id": "qNG-3ybJKys3"
   },
   "source": [
    "### 5. Define a class to represent a rectangle, where the attributes should be height and length."
   ]
  },
  {
   "cell_type": "markdown",
   "metadata": {
    "id": "hQ5BYCPyLkkT"
   },
   "source": [
    "Implement the following methods: constructor; calculate area; calculate perimeter;\n",
    "calculate length of the diagonal."
   ]
  },
  {
   "cell_type": "code",
   "execution_count": null,
   "metadata": {
    "colab": {
     "base_uri": "https://localhost:8080/"
    },
    "id": "vE7uATYhN5vv",
    "outputId": "802b651b-eab5-4081-ce53-97a6498385d3"
   },
   "outputs": [
    {
     "name": "stdout",
     "output_type": "stream",
     "text": [
      "4\n",
      "5\n",
      "20\n",
      "18\n"
     ]
    }
   ],
   "source": [
    "class Rectangle:\n",
    "  \n",
    "  def __init__(self,  l, w):\n",
    "    self.l = l\n",
    "    self.w = w\n",
    "  \n",
    "  def area(self):\n",
    "    return self.l * self.w\n",
    "  \n",
    "  def perimeter(self):\n",
    "    return (2 * (self.l + self.w))\n",
    "\n",
    "l = int(input())\n",
    "w = int(input())\n",
    "rec = Rectangle(l,w)\n",
    "print(\"area: \", rec.area())\n",
    "print(\"perimeter: \", rec.perimeter(5))"
   ]
  },
  {
   "cell_type": "markdown",
   "metadata": {
    "id": "MILYJoNWLueu"
   },
   "source": [
    "Implement a sub-class (child) that extends this class, to represent squares."
   ]
  },
  {
   "cell_type": "code",
   "execution_count": null,
   "metadata": {
    "colab": {
     "base_uri": "https://localhost:8080/"
    },
    "id": "jwrSAN1XXhIV",
    "outputId": "200726d2-d246-4a68-bb8f-579fd4e4e3d9"
   },
   "outputs": [
    {
     "data": {
      "text/plain": [
       "8"
      ]
     },
     "execution_count": 3,
     "metadata": {},
     "output_type": "execute_result"
    }
   ],
   "source": [
    "class Rectangle:\n",
    "    def __init__(self, l, w):\n",
    "        self.length = l\n",
    "        self.width = w\n",
    "\n",
    "    def area(self):\n",
    "        return self.length * self.width\n",
    "\n",
    "class Square(Rectangle):\n",
    "    def __init__(self, length):\n",
    "        super().__init__(length, length)\n",
    "\n",
    "class VolumeMixin:\n",
    "    def volume(self):\n",
    "        return self.area() * self.height\n",
    "\n",
    "class Cube(VolumeMixin, Square):\n",
    "    def __init__(self, length):\n",
    "        super().__init__(length)\n",
    "        self.height = length\n",
    "\n",
    "    def face_area(self):\n",
    "        return super().area()\n",
    "\n",
    "    def surface_area(self):\n",
    "        return super().area() * 6\n",
    "\n",
    "cube = Cube(2)\n",
    "cube.surface_area()\n",
    "cube.volume()\n",
    "\"\"\"\"\n",
    "Square(Rectangle) удамшил\n",
    "super: etseg classiin constructor\n",
    "Cube(VolumeMixin, Square): 2 etsegees udamshil\n",
    "\"\"\""
   ]
  },
  {
   "cell_type": "markdown",
   "metadata": {
    "id": "XWdIxuqzbRGS"
   },
   "source": [
    "### 6. Extend the class for handling sequences developed in this chapter, defining a sub-class to handle DNA sequences. Implement a method to validate if the sequence is valid (i.e. if it only contains the symbols “A”, “C”, “G”, or “T”). Add other methods that you think may be useful in this context."
   ]
  },
  {
   "cell_type": "code",
   "execution_count": null,
   "metadata": {
    "colab": {
     "base_uri": "https://localhost:8080/"
    },
    "id": "jJIB6Ad1bc8v",
    "outputId": "78add9a8-fb64-48a8-8bc4-799e4d709ac8"
   },
   "outputs": [
    {
     "name": "stdout",
     "output_type": "stream",
     "text": [
      "True\n",
      "{'A': 7, 'T': 4, 'G': 3, 'C': 3}\n"
     ]
    }
   ],
   "source": [
    "class DNA():\n",
    "  \n",
    "  def __init__(self, s):\n",
    "    self.seq = s\n",
    "\n",
    "class sub_class(DNA):\n",
    "  def __init__(self, s):\n",
    "    super().__init__(s)\n",
    "  \n",
    "  def validate_dna(self):\n",
    "    seqm = self.seq.upper()\n",
    "    valid = seqm.count(\"A\") + seqm.count(\"C\") + seqm.count(\"G\") + seqm.count(\"T\")\n",
    "    if(valid == len(seqm)):\n",
    "      return True\n",
    "    else:\n",
    "      return False\n",
    "  \n",
    "  def frequency(self):\n",
    "    dic = {}\n",
    "    for s in self.seq.upper():\n",
    "      if s in dic: dic[s] += 1\n",
    "      else : dic[s] = 1\n",
    "    return dic\n",
    "\n",
    "dna = sub_class(\"atagataactcgcatag\") # object vvssen\n",
    "print(dna.validate_dna()) \n",
    "print(dna.frequency())  # dictionary bvtetseer butsaah"
   ]
  },
  {
   "cell_type": "markdown",
   "metadata": {
    "id": "RggUVtIthwwE"
   },
   "source": [
    "## 5. Дүгнэлт: Биоалгоритм ийн судлах нь ДНА, ДНХ -г шинэчлэх формат д оруулахад python хэл, өгөгдлийн бүтэц ашиглахад тохиромжтой байна.\n",
    "\n",
    "<font color=”green”>\n",
    "Python хэлийн өмнө судалж байсан болхор нэмэлт тайлбар бичээгүй.\n",
    "</font>\n"
   ]
  }
 ],
 "metadata": {
  "colab": {
   "name": "Lab1BioAlgorithm.ipynb",
   "provenance": []
  },
  "kernelspec": {
   "display_name": "Python 3 (ipykernel)",
   "language": "python",
   "name": "python3"
  },
  "language_info": {
   "codemirror_mode": {
    "name": "ipython",
    "version": 3
   },
   "file_extension": ".py",
   "mimetype": "text/x-python",
   "name": "python",
   "nbconvert_exporter": "python",
   "pygments_lexer": "ipython3",
   "version": "3.9.7"
  }
 },
 "nbformat": 4,
 "nbformat_minor": 4
}
